{
 "cells": [
  {
   "cell_type": "code",
   "execution_count": 1,
   "id": "05dc5fae",
   "metadata": {},
   "outputs": [],
   "source": [
    "import ipywidgets as widgets\n",
    "\n",
    "import numpy as np\n",
    "import pandas as pd\n",
    "import matplotlib.pyplot as plt\n",
    "import seaborn as sns\n"
   ]
  },
  {
   "cell_type": "code",
   "execution_count": 2,
   "id": "025f9374",
   "metadata": {},
   "outputs": [],
   "source": [
    "from sklearn import ensemble\n",
    "from sklearn.datasets import make_classification\n",
    "from sklearn.model_selection import train_test_split\n",
    "from sklearn.model_selection import cross_validate\n",
    "from sklearn.ensemble import RandomForestClassifier\n",
    "from sklearn.neighbors import KNeighborsClassifier\n",
    "from matplotlib.colors import ListedColormap\n",
    "from sklearn.inspection import DecisionBoundaryDisplay\n",
    "from sklearn.metrics import confusion_matrix\n",
    "from sklearn.svm import SVC\n",
    "\n",
    "import ipywidgets as widgets\n",
    "from ipywidgets import GridspecLayout,interact"
   ]
  },
  {
   "cell_type": "code",
   "execution_count": 3,
   "id": "37e66550",
   "metadata": {
    "scrolled": false
   },
   "outputs": [
    {
     "data": {
      "application/vnd.jupyter.widget-view+json": {
       "model_id": "73ef7a9bc77f450cb7b9ac40313698ad",
       "version_major": 2,
       "version_minor": 0
      },
      "text/plain": [
       "HBox(children=(VBox(children=(Output(), Label(value='Classification with K-nearest neighbours model'))), VBox(…"
      ]
     },
     "metadata": {},
     "output_type": "display_data"
    }
   ],
   "source": [
    "def fig(N=50, k = 5, classes = 2, sep = 1.0,response_met = 'auto'):\n",
    "\n",
    "    X, y = make_classification(\n",
    "        n_samples=N,\n",
    "        n_features=2,\n",
    "        n_informative=2,\n",
    "        n_redundant=0,\n",
    "        n_repeated=0,\n",
    "        n_classes=int(classes),\n",
    "        n_clusters_per_class=1,\n",
    "        hypercube = True,\n",
    "        class_sep = sep,\n",
    "        random_state=42,\n",
    "    )\n",
    "\n",
    "\n",
    "    X_train, X_test, y_train, y_test = train_test_split(X, y, test_size=0.3, random_state=42)\n",
    "\n",
    "    knn = KNeighborsClassifier(n_neighbors=k, weights='uniform', algorithm='auto', leaf_size=30, metric='minkowski')\n",
    "\n",
    "    knn.fit(X_train,y_train)\n",
    "\n",
    "    knn_pred = knn.predict(X_test)\n",
    "\n",
    "    score = knn.score(X_test, y_test)\n",
    "    print(score)\n",
    "\n",
    "    cm = plt.cm.RdBu\n",
    "    cm_bright = plt.cm.Set1\n",
    "\n",
    "    fig,ax1 = plt.subplots(figsize=(9,7))\n",
    "    knn.fit(X_train, y_train)\n",
    "    knn_pred = knn.predict(X_test)\n",
    "    \n",
    "    \n",
    "    score = knn.score(X_test, y_test)\n",
    "    \n",
    "    print(confusion_matrix(y_train, knn.predict(X_train)))\n",
    "    \n",
    "    print(confusion_matrix(y_test, knn_pred))\n",
    "    \n",
    "    DecisionBoundaryDisplay.from_estimator(knn, X, cmap=cm, grid_resolution = 200, \n",
    "                                           plot_method = 'contourf', \n",
    "                                           response_method=response_met, alpha=0.7, ax=ax1, eps=0.5)\n",
    "    \n",
    "#response_method{‘auto’, ‘predict_proba’, ‘decision_function’, ‘predict’}\n",
    "    \n",
    "    ax1.scatter(X_train[:, 0], X_train[:, 1], c=y_train, cmap=cm_bright, s=100)\n",
    "            # Plot the testing points\n",
    "    ax1.scatter(X_test[:, 0],X_test[:, 1],c=y_test,cmap=cm_bright,edgecolors=\"k\",alpha=0.5,s=150)\n",
    "    plt.show()\n",
    "\n",
    "\n",
    "    \n",
    "    \n",
    "N = widgets.IntSlider(value=50,min=5,max=500,step=5,description='N points : ',disabled=False,continuous_update=True,orientation='vertical', readout=True, readout_format='d')\n",
    "\n",
    "k = widgets.IntSlider(value=5,min=1,max=100,step=2,description='k Neigh : ',disabled=False,continuous_update=True,orientation='vertical', readout=True, readout_format='d')\n",
    "\n",
    "nf = widgets.FloatSlider(value=0.5, min=0.0,max=5,step=.1,description='noise : ',disabled=False,continuous_update=True,orientation='horizontal', readout=True, readout_format='.3f')\n",
    "\n",
    "sep = widgets.FloatSlider(value=1.0, min=0.1,max=5.0,step=.1,description='separation : ',disabled=False,continuous_update=True,orientation='vertical', readout=True, readout_format='.3f')\n",
    "\n",
    "\n",
    "classes = widgets.Dropdown(options=['2', '3','4'], value='2', description='classes:', disabled=False,)\n",
    "\n",
    "response_met = widgets.RadioButtons(options=['auto','predict'],description='resp plot:', disabled=False)\n",
    "\n",
    "\n",
    "caption = widgets.Label(value='Classification with K-nearest neighbours model')\n",
    "\n",
    "\n",
    "out = widgets.interactive_output(fig, { 'N': N, 'k' : k, 'classes' : classes,'sep': sep, 'response_met' : response_met})\n",
    "\n",
    "\n",
    "box1 = widgets.VBox([widgets.HBox([N,k, sep]),response_met,classes])\n",
    "\n",
    "\n",
    "display(widgets.HBox([widgets.VBox([out,caption]),box1]))\n"
   ]
  },
  {
   "cell_type": "code",
   "execution_count": null,
   "id": "fb3cc30a",
   "metadata": {},
   "outputs": [],
   "source": []
  },
  {
   "cell_type": "code",
   "execution_count": null,
   "id": "e22eea2e",
   "metadata": {},
   "outputs": [],
   "source": []
  },
  {
   "cell_type": "code",
   "execution_count": null,
   "id": "f7a2c0cc",
   "metadata": {},
   "outputs": [],
   "source": []
  },
  {
   "cell_type": "code",
   "execution_count": null,
   "id": "ff45cb14",
   "metadata": {},
   "outputs": [],
   "source": []
  },
  {
   "cell_type": "code",
   "execution_count": null,
   "id": "9eeb863b",
   "metadata": {},
   "outputs": [],
   "source": []
  },
  {
   "cell_type": "code",
   "execution_count": null,
   "id": "e3ecf4b7",
   "metadata": {},
   "outputs": [],
   "source": []
  }
 ],
 "metadata": {
  "kernelspec": {
   "display_name": "Python 3 (ipykernel)",
   "language": "python",
   "name": "python3"
  },
  "language_info": {
   "codemirror_mode": {
    "name": "ipython",
    "version": 3
   },
   "file_extension": ".py",
   "mimetype": "text/x-python",
   "name": "python",
   "nbconvert_exporter": "python",
   "pygments_lexer": "ipython3",
   "version": "3.9.12"
  }
 },
 "nbformat": 4,
 "nbformat_minor": 5
}
