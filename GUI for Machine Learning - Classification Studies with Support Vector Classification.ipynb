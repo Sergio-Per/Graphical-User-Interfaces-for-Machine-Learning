{
 "cells": [
  {
   "cell_type": "code",
   "execution_count": 190,
   "id": "05dc5fae",
   "metadata": {},
   "outputs": [],
   "source": [
    "import ipywidgets as widgets\n",
    "\n",
    "import numpy as np\n",
    "import pandas as pd\n",
    "import matplotlib.pyplot as plt\n",
    "import seaborn as sns\n"
   ]
  },
  {
   "cell_type": "code",
   "execution_count": 191,
   "id": "f63ed6d3",
   "metadata": {},
   "outputs": [],
   "source": [
    "from sklearn import ensemble\n",
    "from sklearn.datasets import make_classification\n",
    "from sklearn.model_selection import train_test_split\n",
    "from sklearn.model_selection import cross_validate\n",
    "from sklearn.ensemble import RandomForestClassifier\n",
    "from sklearn.neighbors import KNeighborsClassifier\n",
    "from matplotlib.colors import ListedColormap\n",
    "from sklearn.inspection import DecisionBoundaryDisplay\n",
    "from sklearn.metrics import confusion_matrix\n",
    "from sklearn.svm import SVC\n",
    "\n",
    "import ipywidgets as widgets\n",
    "from ipywidgets import GridspecLayout,interact"
   ]
  },
  {
   "cell_type": "code",
   "execution_count": null,
   "id": "1f57aef5",
   "metadata": {},
   "outputs": [],
   "source": []
  },
  {
   "cell_type": "code",
   "execution_count": null,
   "id": "37c3a060",
   "metadata": {},
   "outputs": [],
   "source": []
  },
  {
   "cell_type": "code",
   "execution_count": null,
   "id": "2d356a48",
   "metadata": {},
   "outputs": [],
   "source": []
  },
  {
   "cell_type": "code",
   "execution_count": null,
   "id": "8ac47adc",
   "metadata": {},
   "outputs": [],
   "source": []
  },
  {
   "cell_type": "code",
   "execution_count": null,
   "id": "fbd8cc0c",
   "metadata": {},
   "outputs": [],
   "source": []
  },
  {
   "cell_type": "code",
   "execution_count": 287,
   "id": "b241c515",
   "metadata": {},
   "outputs": [
    {
     "data": {
      "application/vnd.jupyter.widget-view+json": {
       "model_id": "5903bb2831f5467bb828f5812c316a50",
       "version_major": 2,
       "version_minor": 0
      },
      "text/plain": [
       "HBox(children=(VBox(children=(Label(value='Classification with SVC model'), Output())), VBox(children=(HBox(ch…"
      ]
     },
     "metadata": {},
     "output_type": "display_data"
    }
   ],
   "source": [
    "def fig(N=50, C = 1.0, k = 'rbf' ,classes = 2, sep = 1.0,response_met = 'auto', gamma=gamma):\n",
    "\n",
    "    X, y = make_classification(\n",
    "        n_samples=N,\n",
    "        n_features=2,\n",
    "        n_informative=2,\n",
    "        n_redundant=0,\n",
    "        n_repeated=0,\n",
    "        n_classes=int(classes),\n",
    "        n_clusters_per_class=1,\n",
    "        hypercube = True,\n",
    "        class_sep = sep,\n",
    "        random_state=42,\n",
    "    )\n",
    "\n",
    "\n",
    "    X_train, X_test, y_train, y_test = train_test_split(X, y, test_size=0.3, random_state=42)\n",
    "\n",
    "    svc = SVC(C=C, kernel=k, gamma=gamma)\n",
    "\n",
    "    svc.fit(X_train,y_train)\n",
    "\n",
    "    svc_pred = svc.predict(X_test)\n",
    "\n",
    "    score = svc.score(X_test, y_test)\n",
    "    #print(score)\n",
    "\n",
    "    cm = plt.cm.RdBu\n",
    "    cm_bright = plt.cm.Set1\n",
    "\n",
    "    fig,ax1 = plt.subplots(figsize=(9,7))\n",
    "    fig.set_facecolor('#E0E0E0')\n",
    "    knn.fit(X_train, y_train)\n",
    "    knn_pred = knn.predict(X_test)\n",
    "    \n",
    "    DecisionBoundaryDisplay.from_estimator(svc, X, cmap=cm, grid_resolution = 400, \n",
    "                                           plot_method = 'contourf', \n",
    "                                           response_method=response_met, alpha=0.7, ax=ax1, eps=0.5)\n",
    "\n",
    "    \n",
    "    ax1.scatter(X_train[:, 0], X_train[:, 1], c=y_train, cmap=cm_bright, s=100)\n",
    "            # Plot the testing points\n",
    "    ax1.scatter(X_test[:, 0],X_test[:, 1],c=y_test,cmap=cm_bright,edgecolors=\"k\",alpha=0.5,s=150)\n",
    "    plt.show()\n",
    "\n",
    "    outtest.clear_output()\n",
    "    outtest2.clear_output()\n",
    "#     df = pd.DataFrame([1,2,3])\n",
    "#    outtest =widgets.Output()\n",
    "    with outtest:\n",
    "        print('Confusion matrix_train')\n",
    "        print(pd.DataFrame(confusion_matrix(y_train, svc.predict(X_train))))\n",
    "        \n",
    "    with outtest2:    \n",
    "        print('Confusion Matrix test')\n",
    "        print(pd.DataFrame(confusion_matrix(y_test, svc_pred)))\n",
    "    \n",
    "\n",
    "outtest = widgets.Output(layout={\"border\":\"1px solid green\"})    \n",
    "outtest2 = widgets.Output(layout={\"border\":\"1px solid green\"})    \n",
    "    \n",
    "    \n",
    "C = widgets.FloatLogSlider(value=1,base=10,\n",
    "    min=-2, # max exponent of base\n",
    "    max=2, # min exponent of base\n",
    "    step=0.2, # exponent step\n",
    "    description='C param',\n",
    "    orientation='vertical')\n",
    "            \n",
    "N = widgets.IntSlider(value=50,min=5,max=500,step=5,description='N points : ',\n",
    "                      disabled=False,continuous_update=True,orientation='vertical', readout=True, readout_format='d')\n",
    "\n",
    "\n",
    "sep = widgets.FloatSlider(value=1.0, min=0.1,max=5.0,step=.1,description='separation : ',\n",
    "                          disabled=False,continuous_update=True,\n",
    "                          orientation='vertical', readout=True, readout_format='.3f')\n",
    "\n",
    "classes = widgets.Dropdown(options=['2', '3','4'], value='2', description='classes:', disabled=False,)\n",
    "\n",
    "response_met = widgets.RadioButtons(options=['auto','predict'],description='resp plot:', disabled=False)\n",
    "\n",
    "k = widgets.RadioButtons(options=['rbf', 'linear','poly', 'sigmoid'],\n",
    "                              description='kernel:', disabled=False)\n",
    "\n",
    "gamma = widgets.FloatSlider(value=0.5,min=0.1,max=4,step=0.1,description='gamma: ',\n",
    "                      disabled=False,continuous_update=True,orientation='vertical', readout=True, readout_format='.2f')\n",
    "\n",
    "caption = widgets.Label(value='Classification with SVC model')\n",
    "\n",
    "dict_vars = { 'N': N, 'C' : C, 'classes' : classes,'sep': sep, 'response_met' : response_met, 'k':k,'gamma':gamma}\n",
    "out = widgets.interactive_output(fig, dict_vars)\n",
    "\n",
    "form_item = widgets.Layout(border='solid 2px blue',width='60%',align_self='center')\n",
    "\n",
    "box1 = widgets.VBox([widgets.HBox([N, C, sep, gamma],layout=form_item),\n",
    "                     widgets.HBox([k, response_met]),\n",
    "                     classes,\n",
    "                     widgets.HBox([outtest,outtest2])])\n",
    "\n",
    "\n",
    "display(widgets.HBox([widgets.VBox([caption,out]),box1]))\n",
    "\n",
    "\n",
    "# layout=widgets.Layout(width='300px')"
   ]
  },
  {
   "cell_type": "code",
   "execution_count": null,
   "id": "72617e27",
   "metadata": {},
   "outputs": [],
   "source": []
  },
  {
   "cell_type": "code",
   "execution_count": null,
   "id": "8eebf18e",
   "metadata": {},
   "outputs": [],
   "source": []
  }
 ],
 "metadata": {
  "kernelspec": {
   "display_name": "Python 3 (ipykernel)",
   "language": "python",
   "name": "python3"
  },
  "language_info": {
   "codemirror_mode": {
    "name": "ipython",
    "version": 3
   },
   "file_extension": ".py",
   "mimetype": "text/x-python",
   "name": "python",
   "nbconvert_exporter": "python",
   "pygments_lexer": "ipython3",
   "version": "3.9.12"
  }
 },
 "nbformat": 4,
 "nbformat_minor": 5
}
